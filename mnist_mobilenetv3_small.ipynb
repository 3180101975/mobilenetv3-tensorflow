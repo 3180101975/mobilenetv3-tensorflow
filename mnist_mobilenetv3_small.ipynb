{
 "cells": [
  {
   "cell_type": "code",
   "execution_count": null,
   "metadata": {},
   "outputs": [],
   "source": [
    "import tensorflow as tf\n",
    "\n",
    "from mobilenetv3_factory import build_mobilenetv3\n",
    "from datasets import build_dataset"
   ]
  },
  {
   "cell_type": "code",
   "execution_count": null,
   "metadata": {},
   "outputs": [],
   "source": [
    "config = tf.ConfigProto()\n",
    "config.gpu_options.allow_growth = True\n",
    "sess = tf.Session(config=config)\n",
    "tf.keras.backend.set_session(sess)"
   ]
  },
  {
   "cell_type": "code",
   "execution_count": null,
   "metadata": {},
   "outputs": [],
   "source": [
    "### Parameters\n",
    "name = \"mnist\"\n",
    "train_batch_size = 128\n",
    "valid_batch_size = 128\n",
    "height = 64\n",
    "width = 64\n",
    "model_type = \"small\"\n",
    "l2_reg = 0.01\n",
    "width_multiplier = 1.0\n",
    "optimizer = tf.keras.optimizers.RMSprop(l2_reg)\n",
    "num_epoch = 3"
   ]
  },
  {
   "cell_type": "code",
   "execution_count": null,
   "metadata": {},
   "outputs": [],
   "source": [
    "dataset = build_dataset(\n",
    "        name=name,\n",
    "        shape=[height,width],\n",
    "        train_batch_size=train_batch_size,\n",
    "        valid_batch_size=valid_batch_size\n",
    "        )"
   ]
  },
  {
   "cell_type": "code",
   "execution_count": null,
   "metadata": {},
   "outputs": [],
   "source": [
    "model = build_mobilenetv3(\n",
    "        model_type,\n",
    "        input_shape=(height, width, dataset[\"channels\"]),\n",
    "        num_classes=dataset[\"num_classes\"],\n",
    "        width_multiplier=width_multiplier,\n",
    "        l2_reg=l2_reg,\n",
    "    )"
   ]
  },
  {
   "cell_type": "code",
   "execution_count": null,
   "metadata": {},
   "outputs": [],
   "source": [
    "model.compile(\n",
    "        optimizer= optimizer,\n",
    "        loss=\"categorical_crossentropy\",\n",
    "        metrics=[\"accuracy\"],)"
   ]
  },
  {
   "cell_type": "code",
   "execution_count": null,
   "metadata": {},
   "outputs": [],
   "source": [
    "model.fit(\n",
    "        dataset[\"train\"].make_one_shot_iterator(),\n",
    "        steps_per_epoch=(dataset[\"num_train\"]//train_batch_size)+1,\n",
    "        epochs=num_epoch,\n",
    "        validation_data=dataset[\"test\"],\n",
    "        validation_steps=(dataset[\"num_test\"]//valid_batch_size)+1,\n",
    "    )"
   ]
  },
  {
   "cell_type": "code",
   "execution_count": null,
   "metadata": {},
   "outputs": [],
   "source": [
    "model.save_weights(f\"mobilenetv3_{model_type}_{dataset}_{num_epoch}.h5\")"
   ]
  }
 ],
 "metadata": {
  "kernelspec": {
   "display_name": "Python 3",
   "language": "python",
   "name": "python3"
  },
  "language_info": {
   "codemirror_mode": {
    "name": "ipython",
    "version": 3
   },
   "file_extension": ".py",
   "mimetype": "text/x-python",
   "name": "python",
   "nbconvert_exporter": "python",
   "pygments_lexer": "ipython3",
   "version": "3.7.3"
  }
 },
 "nbformat": 4,
 "nbformat_minor": 2
}
