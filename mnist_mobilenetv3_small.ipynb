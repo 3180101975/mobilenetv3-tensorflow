{
 "cells": [
  {
   "cell_type": "code",
   "execution_count": null,
   "metadata": {
    "collapsed": false
   },
   "outputs": [],
   "source": [
    "import tensorflow as tf\n",
    "\n",
    "from mobilenetv3_factory import build_mobilenetv3\n",
    "from dataset import *"
   ]
  },
  {
   "cell_type": "code",
   "execution_count": null,
   "metadata": {
    "collapsed": true
   },
   "outputs": [],
   "source": [
    "config = tf.ConfigProto()\n",
    "config.gpu_options.allow_growth = True\n",
    "sess = tf.Session(config=config)\n",
    "tf.keras.backend.set_session(sess)"
   ]
  },
  {
   "cell_type": "code",
   "execution_count": null,
   "metadata": {
    "collapsed": false
   },
   "outputs": [],
   "source": [
    "### Parameters\n",
    "name = \"mnist\"\n",
    "train_batch_size = 128\n",
    "valid_batch_size = 128\n",
    "num_classes = 10\n",
    "height = 64\n",
    "width = 64\n",
    "model_type = \"small\"\n",
    "channels = 1\n",
    "l2_reg = 0.01\n",
    "width_multiplier = 1.0\n",
    "optimizer = tf.keras.optimizers.RMSprop(l2_reg)\n",
    "num_epoch = 20"
   ]
  },
  {
   "cell_type": "code",
   "execution_count": null,
   "metadata": {
    "collapsed": true
   },
   "outputs": [],
   "source": [
    "ds_train, num_train, ds_test, num_test = build_dataset(\n",
    "        name=name,\n",
    "        shape=[height,width],\n",
    "        num_classes= num_classes,\n",
    "        train_batch_size=train_batch_size,\n",
    "        valid_batch_size=valid_batch_size)"
   ]
  },
  {
   "cell_type": "code",
   "execution_count": null,
   "metadata": {
    "collapsed": false
   },
   "outputs": [],
   "source": [
    "model = build_mobilenetv3(\n",
    "        model_type,\n",
    "        input_shape=(height, width, channels),\n",
    "        num_classes=num_classes,\n",
    "        width_multiplier=width_multiplier,\n",
    "        l2_reg=l2_reg,)"
   ]
  },
  {
   "cell_type": "code",
   "execution_count": null,
   "metadata": {
    "collapsed": false
   },
   "outputs": [],
   "source": [
    "model.compile(\n",
    "        optimizer= optimizer,\n",
    "        loss=\"categorical_crossentropy\",\n",
    "        metrics=[\"accuracy\"],)"
   ]
  },
  {
   "cell_type": "code",
   "execution_count": null,
   "metadata": {
    "collapsed": false
   },
   "outputs": [],
   "source": [
    "model.fit(\n",
    "        ds_train.make_one_shot_iterator(),\n",
    "        steps_per_epoch=(num_train//train_batch_size)+1,\n",
    "        epochs=num_epoch,\n",
    "        validation_data=ds_test,\n",
    "        validation_steps=(num_test//valid_batch_size)+1,)"
   ]
  },
  {
   "cell_type": "code",
   "execution_count": null,
   "metadata": {
    "collapsed": true
   },
   "outputs": [],
   "source": [
    "model.save_weights(f\"mobilenetv3_{model_type}_{dataset}_{num_epoch}.h5\")"
   ]
  }
 ],
 "metadata": {
  "kernelspec": {
   "display_name": "Python 3",
   "language": "python",
   "name": "python3"
  },
  "language_info": {
   "codemirror_mode": {
    "name": "ipython",
    "version": 3
   },
   "file_extension": ".py",
   "mimetype": "text/x-python",
   "name": "python",
   "nbconvert_exporter": "python",
   "pygments_lexer": "ipython3",
   "version": "3.6.8"
  }
 },
 "nbformat": 4,
 "nbformat_minor": 2
}
